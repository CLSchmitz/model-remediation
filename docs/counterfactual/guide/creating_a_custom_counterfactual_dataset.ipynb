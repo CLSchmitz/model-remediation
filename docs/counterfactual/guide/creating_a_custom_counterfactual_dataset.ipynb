{
  "cells": [
    {
      "cell_type": "markdown",
      "metadata": {
        "id": "PLwGNovEanAB"
      },
      "source": [
        "##### Copyright 2020 The TensorFlow Authors."
      ]
    },
    {
      "cell_type": "code",
      "execution_count": null,
      "metadata": {
        "cellView": "form",
        "id": "jUK4QgfmbGPS"
      },
      "outputs": [],
      "source": [
        "#@title Licensed under the Apache License, Version 2.0 (the \"License\");\n",
        "# you may not use this file except in compliance with the License.\n",
        "# You may obtain a copy of the License at\n",
        "#\n",
        "# https://www.apache.org/licenses/LICENSE-2.0\n",
        "#\n",
        "# Unless required by applicable law or agreed to in writing, software\n",
        "# distributed under the License is distributed on an \"AS IS\" BASIS,\n",
        "# WITHOUT WARRANTIES OR CONDITIONS OF ANY KIND, either express or implied.\n",
        "# See the License for the specific language governing permissions and\n",
        "# limitations under the License."
      ]
    },
    {
      "cell_type": "markdown",
      "metadata": {
        "id": "lKy2xzTnbsaJ"
      },
      "source": [
        "# Creating a custom Counterfactual Dataset\n",
        "\n",
        "\u003cdiv class=\"devsite-table-wrapper\"\u003e\u003ctable class=\"tfo-notebook-buttons\" align=\"left\"\u003e\n",
        "  \u003ctd\u003e\u003ca target=\"_blank\" href=\"https://www.tensorflow.org/responsible_ai/model_remediation/counterfactual/guide/creating_a_custom_counterfactual_dataset\"\u003e\n",
        "  \u003cimg src=\"https://www.tensorflow.org/images/tf_logo_32px.png\" /\u003eView on TensorFlow.org\u003c/a\u003e\n",
        "\u003c/td\u003e\n",
        "\u003ctd\u003e\n",
        "  \u003ca target=\"_blank\" href=\"https://colab.research.google.com/github/tensorflow/model-remediation/blob/master/docs/counterfactual/guide/creating_a_custom_counterfactual_dataset.ipynb\"\u003e\n",
        "  \u003cimg src=\"https://www.tensorflow.org/images/colab_logo_32px.png\"\u003eRun in Google Colab\u003c/a\u003e\n",
        "\u003c/td\u003e\n",
        "\u003ctd\u003e\n",
        "  \u003ca target=\"_blank\" href=\"https://github.com/tensorflow/model-remediation/blob/master/docs/counterfactual/guide/creating_a_custom_counterfactual_dataset.ipynb\"\u003e\n",
        "  \u003cimg width=32px src=\"https://www.tensorflow.org/images/GitHub-Mark-32px.png\"\u003eView source on GitHub\u003c/a\u003e\n",
        "\u003c/td\u003e\n",
        "\u003ctd\u003e\n",
        "  \u003ca target=\"_blank\" href=\"https://storage.googleapis.com/tensorflow_docs/model-remediation/docs/counterfactual/guide/creating_a_custom_counterfactual_dataset.ipynb\"\u003e\u003cimg src=\"https://www.tensorflow.org/images/download_logo_32px.png\" /\u003eDownload notebook\u003c/a\u003e\n",
        "\u003c/td\u003e\n",
        "  \u003ctd\u003e\n",
        "    \u003ca href=\"https://tfhub.dev/\"\u003e\u003cimg src=\"https://www.tensorflow.org/images/hub_logo_32px.png\" /\u003eSee TF Hub model\u003c/a\u003e\n",
        "  \u003c/td\u003e\n",
        "\u003c/table\u003e\u003c/div\u003e"
      ]
    },
    {
      "cell_type": "markdown",
      "metadata": {
        "id": "N4wgS7SGbzhL"
      },
      "source": [
        "## Introduction\n",
        "To use Counterfactuals, you’ll need to develop a counterfactual dataset that can be used for pairing the loss function between the original value and a counterfactual value.\n",
        "\n",
        "Unlike your training dataset, you don’t need to include labels in your counterfactual dataset. However, the data must be the same as the training dataset, with sensitive terms replaced or removed (depending on the type of correlation you are aiming to test). You also need to ensure that there are a sufficient number of sensitive attributes to get a meaningful result. \n",
        "\n",
        "There are three options available to develop a counterfactual dataset that are listed below. \n",
        "\n",
        "1.   Use build_counterfactual_dataset to pass a list of words that will be removed from the dataset via tf.strings.regex_replace.\n",
        "2.   Create a custom function to pass to build_counterfactual_dataset to change the counterfactual. This might include using more specific regex functions or replacing words within your original dataset.\n",
        "3.   Provide your own Counterfactual dataset that follows the same tuple structure as CounterfactualPackedInputs.\n",
        "\n",
        "When using simple regex to create the counterfactual dataset, keep in mind that this may augment words that shouldn’t be changed, which could impact performance. It is important to understand your original dataset along with the counterfactual dataset to help produce an appropriate pairing for your model.\n",
        "\n",
        "**Note**: The dataset created in this tutorial contains only a limited set of terms for describing gender. Further this tutorial only demonstrates the steps for creating a counterfactual dataset and does not represent a real-world use case. \n"
      ]
    },
    {
      "cell_type": "markdown",
      "metadata": {
        "id": "npFvpoI2cG9-"
      },
      "source": [
        "## Setup\n",
        "\n",
        "We begin by installing TensorFlow Model Remediation.\n"
      ]
    },
    {
      "cell_type": "code",
      "execution_count": null,
      "metadata": {
        "id": "8ou41oj9cSJd"
      },
      "outputs": [],
      "source": [
        "!pip install --upgrade tensorflow-model-remediation"
      ]
    },
    {
      "cell_type": "code",
      "execution_count": null,
      "metadata": {
        "cellView": "form",
        "id": "w42tJVqpcTal"
      },
      "outputs": [],
      "source": [
        "#@title Imports\n",
        "import numpy as np\n",
        "import tensorflow as tf\n",
        "from tensorflow_model_remediation import counterfactual"
      ]
    },
    {
      "cell_type": "markdown",
      "metadata": {
        "id": "2tpF3OEleEDr"
      },
      "source": [
        "## Create a simple TF Dataset\n",
        "\n",
        "For the purposes of this Colab, we will create a simple dataset with one sentence: “He is a doctor and she is a nurse”.\n",
        "\n",
        "If a model is only given this context, it will likely relate males to being a doctor and females to being a nurse. You could remove the gender terms to avoid that association by creating a counterfactual dataset containing the phrase, “is a doctor and is a nurse”. \n",
        " \n",
        "### Option 1: List of Words of Remove \n",
        "\n",
        "In order to use the build_counterfactual_dataset, you will first come up with a list of gender specific terms to remove with`build_counterfactual_dataset`\n",
        "\n",
        "Note that the words you’re passing include spaces since it could remove more content than what would be ideal. For example, passing only the word “he” would change words like “the” into “t”; “there” into “tre”. .\n"
      ]
    },
    {
      "cell_type": "code",
      "execution_count": null,
      "metadata": {
        "id": "xAPFGLy_fKSm"
      },
      "outputs": [],
      "source": [
        "#@title Create Counterfactual Inputs\n",
        "\n",
        "simple_dataset_x = tf.constant(\n",
        "    [\"He is a doctor and she is a nurse\" + str(i) for i in range(10)])\n",
        "simple_dataset = tf.data.Dataset.from_tensor_slices(\n",
        "            (simple_dataset_x, None, None))\n",
        "\n",
        "counterfactual_data = counterfactual.keras.utils.build_counterfactual_dataset(\n",
        "    original_dataset=simple_dataset,\n",
        "    sensitive_terms_to_remove=['she', 'He'])\n",
        "\n",
        "# Inspect the content of the TF Counterfactual Dataset\n",
        "np.stack(list(counterfactual_data))"
      ]
    },
    {
      "cell_type": "markdown",
      "metadata": {
        "id": "_ueC9K5qsvXH"
      },
      "source": [
        "### Option 2: Custom Function  \n",
        "\n",
        "For more flexibility around ways of modifying your original dataset, you can instead pass a custom function to `build_counterfactual_dataset`. \n",
        "\n",
        "In the example, you can consider replacing identity terms that reference the male gender with those that reference the female gender. This can be done by writing a function to replace a dictionary of words. \n",
        " \n",
        "Note that the only limitation on the custom function is that it must be a callable to accept and return a tuple in the format used in `Model.fit`.\n"
      ]
    },
    {
      "cell_type": "code",
      "execution_count": null,
      "metadata": {
        "id": "L57yticErNJG"
      },
      "outputs": [],
      "source": [
        "words_to_replace = {\"He\": \"She\"}\n",
        "\n",
        "def replace_words(original_batch):\n",
        "  original_x, _, original_sample_weight = (\n",
        "      tf.keras.utils.unpack_x_y_sample_weight(original_batch))\n",
        "  for keys in words_to_replace:\n",
        "    original_x = tf.strings.regex_replace(\n",
        "        original_x, keys, words_to_replace[keys])\n",
        "  return tf.keras.utils.pack_x_y_sample_weight(\n",
        "      original_x, sample_weight=original_sample_weight)\n",
        "    \n",
        "counterfactual_data = counterfactual.keras.utils.build_counterfactual_dataset(\n",
        "    original_dataset=simple_dataset,\n",
        "    custom_counterfactual_function=replace_words)\n",
        "\n",
        "# Inspect the content of the TF Counterfactual Dataset\n",
        "np.stack(list(counterfactual_data))"
      ]
    },
    {
      "cell_type": "markdown",
      "metadata": {
        "id": "1HiFjE74HvHm"
      },
      "source": [
        "### Option 3: Provide a Dataset \n",
        "\n",
        "Build a `CounterfactualPackedInputs` dataset directly to pass to the Counterfactual model."
      ]
    }
  ],
  "metadata": {
    "colab": {
      "name": "creating_a_custom_counterfactual_dataset.ipynb",
      "toc_visible": true
    },
    "kernelspec": {
      "display_name": "Python 3",
      "name": "python3"
    }
  },
  "nbformat": 4,
  "nbformat_minor": 0
}
