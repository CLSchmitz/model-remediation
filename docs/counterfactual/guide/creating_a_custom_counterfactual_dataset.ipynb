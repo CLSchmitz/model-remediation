{
  "cells": [
    {
      "cell_type": "markdown",
      "metadata": {
        "id": "PLwGNovEanAB"
      },
      "source": [
        "##### Copyright 2020 The TensorFlow Authors."
      ]
    },
    {
      "cell_type": "code",
      "execution_count": null,
      "metadata": {
        "cellView": "form",
        "id": "jUK4QgfmbGPS"
      },
      "outputs": [],
      "source": [
        "#@title Licensed under the Apache License, Version 2.0 (the \"License\");\n",
        "# you may not use this file except in compliance with the License.\n",
        "# You may obtain a copy of the License at\n",
        "#\n",
        "# https://www.apache.org/licenses/LICENSE-2.0\n",
        "#\n",
        "# Unless required by applicable law or agreed to in writing, software\n",
        "# distributed under the License is distributed on an \"AS IS\" BASIS,\n",
        "# WITHOUT WARRANTIES OR CONDITIONS OF ANY KIND, either express or implied.\n",
        "# See the License for the specific language governing permissions and\n",
        "# limitations under the License."
      ]
    },
    {
      "cell_type": "markdown",
      "metadata": {
        "id": "lKy2xzTnbsaJ"
      },
      "source": [
        "# Creating a custom Counterfactual Dataset\n",
        "\n",
        "\u003cdiv class=\"devsite-table-wrapper\"\u003e\u003ctable class=\"tfo-notebook-buttons\" align=\"left\"\u003e\n",
        "  \u003ctd\u003e\u003ca target=\"_blank\" href=\"https://www.tensorflow.org/responsible_ai/model_remediation/counterfactual/guide/creating_a_custom_counterfactual_dataset\"\u003e\n",
        "  \u003cimg src=\"https://www.tensorflow.org/images/tf_logo_32px.png\" /\u003eView on TensorFlow.org\u003c/a\u003e\n",
        "\u003c/td\u003e\n",
        "\u003ctd\u003e\n",
        "  \u003ca target=\"_blank\" href=\"https://colab.research.google.com/github/tensorflow/model-remediation/blob/master/docs/counterfactual/guide/creating_a_custom_counterfactual_dataset.ipynb\"\u003e\n",
        "  \u003cimg src=\"https://www.tensorflow.org/images/colab_logo_32px.png\"\u003eRun in Google Colab\u003c/a\u003e\n",
        "\u003c/td\u003e\n",
        "\u003ctd\u003e\n",
        "  \u003ca target=\"_blank\" href=\"https://github.com/tensorflow/model-remediation/blob/master/docs/counterfactual/guide/creating_a_custom_counterfactual_dataset.ipynb\"\u003e\n",
        "  \u003cimg width=32px src=\"https://www.tensorflow.org/images/GitHub-Mark-32px.png\"\u003eView source on GitHub\u003c/a\u003e\n",
        "\u003c/td\u003e\n",
        "\u003ctd\u003e\n",
        "  \u003ca target=\"_blank\" href=\"https://storage.googleapis.com/tensorflow_docs/model-remediation/docs/counterfactual/guide/creating_a_custom_counterfactual_dataset.ipynb\"\u003e\u003cimg src=\"https://www.tensorflow.org/images/download_logo_32px.png\" /\u003eDownload notebook\u003c/a\u003e\n",
        "\u003c/td\u003e\n",
        "  \u003ctd\u003e\n",
        "    \u003ca href=\"https://tfhub.dev/\"\u003e\u003cimg src=\"https://www.tensorflow.org/images/hub_logo_32px.png\" /\u003eSee TF Hub model\u003c/a\u003e\n",
        "  \u003c/td\u003e\n",
        "\u003c/table\u003e\u003c/div\u003e"
      ]
    },
    {
      "cell_type": "markdown",
      "metadata": {
        "id": "N4wgS7SGbzhL"
      },
      "source": [
        "## Introduction\n",
        "\n",
        "To create a Counterfactual model, you need to provide an instance of `CounterfactualPackedInputs` that contains the `original_input` and `counterfactual_data`. `CounterfactualPackedInputs` looks like the following:\n",
        "```\n",
        "CounterfactualPackedInputs(\n",
        "  original_inputdataset=(x, y, sample_weight),\n",
        "  counterfactual_data:(original_x, counterfactual_x,\n",
        "                       counterfactual_sample_weight)\n",
        ")\n",
        "```\n",
        "The `original_input` should be the original dataset that is used to train your Keras model. `counterfactual_data` should be a TensorFlow Dataset with the original `x` value, the corresponding `counterfactual_x”` value, and the `counterfactual_sample_weight”`.The ‘counterfactual_x’ value is nearly identical to the original value but with one or more of the sensitive attributes removed or replaced. This dataset is used to pair the loss function between the original value and the counterfactual value with the goal of assuring that the model’s prediction doesn’t change when the sensitive attribute is different. `original_input` and `counterfactual_data` need to be the same shape. You can duplicate values of `counterfactual_data` so that it’s the same shape as `original_input`. \n",
        "\n",
        "`counterfactual_data` needs to:\n",
        "*   ‘counterfactual_x’ value is nearly identical to the original value but with one or more of the sensitive attributes removed or replaced\n",
        "*   Be the same shape as `original_input` (you can duplicate values so that they’re the same shape)\n",
        "\n",
        "`counterfactual_data` does not need to:\n",
        "*   Have overlap with data within `original_input` \n",
        "*   Have ground truth labels \n",
        "\n",
        "Here’s an example of what a `counterfactual_data` would look like, where you replace “he” with “she”:\n",
        "\n",
        "```\n",
        "original_x: “He is in the UK”\n",
        "counterfactual_x: “She is in the UK” \n",
        "counterfactual_sample_weight”: 1\n",
        "\n",
        "original_x: “He went to school”\n",
        "counterfactual_x”: “She went to school” \n",
        "counterfactual_sample_weight”: 1\n",
        "```\n",
        "If you have a text classifier, you can use `build_counterfactual_data` to help create a counterfactual dataset. For all other data types, you need to provide a counterfactual dataset directly. \n"
      ]
    },
    {
      "cell_type": "markdown",
      "metadata": {
        "id": "npFvpoI2cG9-"
      },
      "source": [
        "## Setup\n",
        "\n",
        "You'll begin by installing TensorFlow Model Remediation.\n"
      ]
    },
    {
      "cell_type": "code",
      "execution_count": null,
      "metadata": {
        "id": "8ou41oj9cSJd"
      },
      "outputs": [],
      "source": [
        "!pip install --upgrade tensorflow-model-remediation"
      ]
    },
    {
      "cell_type": "code",
      "execution_count": null,
      "metadata": {
        "cellView": "form",
        "id": "w42tJVqpcTal"
      },
      "outputs": [],
      "source": [
        "#@title Imports\n",
        "import numpy as np\n",
        "import tensorflow as tf\n",
        "from tensorflow_model_remediation import counterfactual"
      ]
    },
    {
      "cell_type": "markdown",
      "metadata": {
        "id": "2tpF3OEleEDr"
      },
      "source": [
        "## Create a simple Dataset\n",
        "\n",
        "For demonstrative purposes, we’ll create `counterfactual_data` from the `original_input` using `build_counterfactual_dataset`. Note that you can also construct `counterfactual_data` from unlabeled data (as opposed to constructing it from `original_input`). You will create a simple dataset with one sentence: “He is a doctor and she is a nurse” which will serve as the `original_input`.\n",
        "\n",
        "If a model is only given this context, it will likely relate males to being a doctor and females to being a nurse. You could remove the gender terms to avoid that association by creating an instance of `counterfactual_data` with the sentence, “is a doctor and is a nurse”.\n",
        "\n",
        "Note: The dataset created in this tutorial contains only a limited set of terms for describing gender. Further this tutorial only demonstrates the steps for creating an instance of `counterfactual_data` and does not represent a real-world use case.\n",
        "\n",
        "## Build a `counterfactual_data` \n",
        "`build_counterfactual_dataset` can be used in the following ways:\n",
        "\n",
        "\n",
        "1.   **Remove terms**: Use build_counterfactual_dataset to pass a list of words that will be removed from the dataset via tf.strings.regex_replace.\n",
        "2.   **Replace terms**: Create a custom function to pass to build_counterfactual_dataset. This might include using more specific regex functions to replace words within your original dataset or support non-text features.\n",
        "\n",
        "`build_counterfactual_dataset` takes in `original_input` and either removes or replaces terms with regex (as described above). It will filter `original_input` so it only contains text with the identity terms that are being removed or replaced. Then, it will reshape `counterfactual_data` so it’s the same size as `original_input` by duplicating the terms.\n",
        "\n",
        "### Option 1: List of Words to Remove\n",
        "Pass in a list of gender-related terms to remove with`build_counterfactual_data`.\n",
        "\n",
        "When using simple regex to create `counterfactual_data`, keep in mind that this may augment words that shouldn’t be changed. A simple regex removal of a word such as “he” could change a number of different words in the model.For example “theory” will become “tory” and “when” will become “wn”. It is good practice to check that the changes made to the `counterfactual_x` value make sense in the context of the `orginal_x` value."
      ]
    },
    {
      "cell_type": "code",
      "execution_count": null,
      "metadata": {
        "id": "xAPFGLy_fKSm"
      },
      "outputs": [],
      "source": [
        "#@title Create Counterfactual Inputs\n",
        "\n",
        "simple_dataset_x = tf.constant(\n",
        "    [\"He is a doctor and she is a nurse\" + str(i) for i in range(10)])\n",
        "simple_dataset = tf.data.Dataset.from_tensor_slices(\n",
        "            (simple_dataset_x, None, None))\n",
        "\n",
        "counterfactual_data = counterfactual.keras.utils.build_counterfactual_data(\n",
        "    original_input=simple_dataset,\n",
        "    sensitive_terms_to_remove=['she', 'He'])\n",
        "\n",
        "# Inspect the content of the TF Counterfactual Dataset\n",
        "np.stack(list(counterfactual_data))"
      ]
    },
    {
      "cell_type": "markdown",
      "metadata": {
        "id": "_ueC9K5qsvXH"
      },
      "source": [
        "### Option 2: Custom Function  \n",
        "\n",
        "For more flexibility around ways of modifying your original dataset, you can instead pass a custom function to `build_counterfactual_data`. \n",
        "\n",
        "In the example, you can consider replacing identity terms that reference the male gender with those that reference the female gender. This can be done by writing a function to replace a dictionary of words. \n",
        " \n",
        "Note that the only limitation on the custom function is that it must be a callable to accept and return a tuple in the format used in [`Model.fit`](https://www.tensorflow.org/api_docs/python/tf/keras/Model#fit).\n"
      ]
    },
    {
      "cell_type": "code",
      "execution_count": null,
      "metadata": {
        "id": "L57yticErNJG"
      },
      "outputs": [],
      "source": [
        "words_to_replace = {\"He\": \"She\"}\n",
        "\n",
        "def replace_words(original_batch):\n",
        "  original_x, _, original_sample_weight = (\n",
        "      tf.keras.utils.unpack_x_y_sample_weight(original_batch))\n",
        "  for keys in words_to_replace:\n",
        "    original_x = tf.strings.regex_replace(\n",
        "        original_x, keys, words_to_replace[keys])\n",
        "  return tf.keras.utils.pack_x_y_sample_weight(\n",
        "      original_x, sample_weight=original_sample_weight)\n",
        "    \n",
        "counterfactual_data = counterfactual.keras.utils.build_counterfactual_data(\n",
        "    original_input=simple_dataset,\n",
        "    custom_counterfactual_function=replace_words)\n",
        "\n",
        "# Inspect the content of the TF Counterfactual Dataset\n",
        "np.stack(list(counterfactual_data))"
      ]
    }
  ],
  "metadata": {
    "colab": {
      "collapsed_sections": [],
      "name": "creating_a_custom_counterfactual_dataset.ipynb",
      "provenance": [],
      "toc_visible": true
    },
    "kernelspec": {
      "display_name": "Python 3",
      "name": "python3"
    }
  },
  "nbformat": 4,
  "nbformat_minor": 0
}
